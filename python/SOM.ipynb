{
 "cells": [
  {
   "cell_type": "markdown",
   "metadata": {},
   "source": [
    "# 自己組織化マップ"
   ]
  },
  {
   "cell_type": "code",
   "execution_count": 1,
   "metadata": {},
   "outputs": [],
   "source": [
    "import numpy as np\n",
    "from matplotlib import pyplot as plt\n"
   ]
  },
  {
   "cell_type": "markdown",
   "metadata": {},
   "source": [
    "## SOMクラス"
   ]
  },
  {
   "cell_type": "code",
   "execution_count": 19,
   "metadata": {
    "collapsed": true
   },
   "outputs": [],
   "source": [
    "class SOM():\n",
    "    \n",
    "    def __init__(self, teachers, N, seed=None):\n",
    "        self.teachers = np.array(teachers)\n",
    "        self.n_teacher = self.teachers.shape[0]\n",
    "        self.N = N\n",
    "        if not seed is None:\n",
    "            np.random.seed(seed)\n",
    "        # mesh gridの生成\n",
    "        x, y = np.meshgrid(range(self.N), range(self.N))\n",
    "        # hstackは配列の(水平方向)連結\n",
    "        # print(x.flatten()[:, np.newaxis])\n",
    "        # print(y.flatten()[:, np.newaxis])\n",
    "        self.c = np.hstack((y.flatten()[:, np.newaxis],x.flatten()[:, np.newaxis]))\n",
    "        # print(self.c) 20x20の2次元配列\n",
    "        # ノード 20x20 x 3の一様乱数の行列\n",
    "        self.nodes = np.random.rand(self.N*self.N,self.teachers.shape[1])\n",
    "\n",
    "    def train(self):\n",
    "        for i, teacher in enumerate(self.teachers):\n",
    "            bmu = self._best_matching_unit(teacher)\n",
    "            d = np.linalg.norm(self.c - bmu, axis=1)\n",
    "            L = self._learning_ratio(i)\n",
    "            S = self._learning_radius(i, d)\n",
    "            self.nodes += L * S[:, np.newaxis] * (teacher - self.nodes)\n",
    "        return self.nodes\n",
    "\n",
    "    def _best_matching_unit(self, teacher):\n",
    "        #compute all norms (square)\n",
    "        norms = np.linalg.norm(self.nodes - teacher, axis=1)\n",
    "        bmu = np.argmin(norms) #argment with minimum element \n",
    "        return np.unravel_index(bmu,(self.N, self.N))\n",
    "\n",
    "    def _neighbourhood(self, t):#neighbourhood radious\n",
    "        halflife = float(self.n_teacher/4) #for testing\n",
    "        initial  = float(self.N/2)\n",
    "        return initial*np.exp(-t/halflife)\n",
    "\n",
    "    def _learning_ratio(self, t):\n",
    "        halflife = float(self.n_teacher/4) #for testing\n",
    "        initial  = 0.1\n",
    "        return initial*np.exp(-t/halflife)\n",
    "\n",
    "    def _learning_radius(self, t, d):\n",
    "        # d is distance from BMU\n",
    "        s = self._neighbourhood(t)\n",
    "        return np.exp(-d**2/(2*s**2))\n"
   ]
  },
  {
   "cell_type": "code",
   "execution_count": 20,
   "metadata": {},
   "outputs": [
    {
     "data": {
      "image/png": "[encoded data removed]",
      "text/plain": [
       "<matplotlib.figure.Figure at 0x26d04b4e6a0>"
      ]
     },
     "metadata": {},
     "output_type": "display_data"
    },
    {
     "data": {
      "image/png": "[encoded data removed]",
      "text/plain": [
       "<matplotlib.figure.Figure at 0x26d04af0f28>"
      ]
     },
     "metadata": {},
     "output_type": "display_data"
    }
   ],
   "source": [
    "# 一辺のメッシュ数\n",
    "N = 20\n",
    "# 一様乱数 1000x3行列\n",
    "teachers = np.random.rand(10000, 3)\n",
    "# somインスタンス生成\n",
    "som = SOM(teachers, N=N, seed=10)\n",
    "# Initial map\n",
    "plt.imshow(som.nodes.reshape((N, N, 3)),interpolation='none')\n",
    "plt.show()\n",
    "\n",
    "# Train\n",
    "som.train()\n",
    "\n",
    "# Trained MAP\n",
    "plt.imshow(som.nodes.reshape((N, N, 3)),\n",
    "           interpolation='none')\n",
    "plt.show()      "
   ]
  },
  {
   "cell_type": "code",
   "execution_count": null,
   "metadata": {
    "collapsed": true
   },
   "outputs": [],
   "source": []
  }
 ],
 "metadata": {
  "kernelspec": {
   "display_name": "Python 3",
   "language": "python",
   "name": "python3"
  },
  "language_info": {
   "codemirror_mode": {
    "name": "ipython",
    "version": 3
   },
   "file_extension": ".py",
   "mimetype": "text/x-python",
   "name": "python",
   "nbconvert_exporter": "python",
   "pygments_lexer": "ipython3",
   "version": "3.5.2"
  }
 },
 "nbformat": 4,
 "nbformat_minor": 2
}
